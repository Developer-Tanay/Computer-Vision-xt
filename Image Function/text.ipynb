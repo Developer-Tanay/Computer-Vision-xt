{
 "cells": [
  {
   "cell_type": "code",
   "execution_count": 1,
   "id": "0ac3ca93",
   "metadata": {},
   "outputs": [],
   "source": [
    "import cv2"
   ]
  },
  {
   "cell_type": "code",
   "execution_count": 2,
   "id": "af656bc7",
   "metadata": {},
   "outputs": [],
   "source": [
    "image = cv2.imread(\"Images/img1.png\")"
   ]
  },
  {
   "cell_type": "code",
   "execution_count": 3,
   "id": "c56c3a22",
   "metadata": {},
   "outputs": [
    {
     "name": "stdout",
     "output_type": "stream",
     "text": [
      "Error: Could not read the image.\n"
     ]
    }
   ],
   "source": [
    "if image is None:\n",
    "    print(\"Error: Could not read the image.\")\n",
    "else:\n",
    "    text = \"Hello, OpenCV!\"\n",
    "    pt = (50, 300)\n",
    "    font = cv2.FONT_HERSHEY_SIMPLEX\n",
    "    font_scale = 1\n",
    "    color = (255, 0, 0)  # Blue color in BGR\n",
    "    thickness = 2\n",
    "\n",
    "    cv2.putText(image, text, pt, font, font_scale, color, thickness)\n",
    "\n",
    "    cv2.imshow(\"Image with Text\", image)\n",
    "    cv2.waitKey(0)\n",
    "    cv2.destroyAllWindows()"
   ]
  },
  {
   "cell_type": "code",
   "execution_count": null,
   "id": "a225b0c7",
   "metadata": {},
   "outputs": [],
   "source": []
  }
 ],
 "metadata": {
  "kernelspec": {
   "display_name": "venv",
   "language": "python",
   "name": "python3"
  },
  "language_info": {
   "codemirror_mode": {
    "name": "ipython",
    "version": 3
   },
   "file_extension": ".py",
   "mimetype": "text/x-python",
   "name": "python",
   "nbconvert_exporter": "python",
   "pygments_lexer": "ipython3",
   "version": "3.10.10"
  }
 },
 "nbformat": 4,
 "nbformat_minor": 5
}
