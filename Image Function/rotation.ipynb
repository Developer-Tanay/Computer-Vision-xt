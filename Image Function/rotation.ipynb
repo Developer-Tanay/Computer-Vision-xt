{
 "cells": [
  {
   "cell_type": "code",
   "execution_count": 1,
   "id": "eb2ed84c",
   "metadata": {},
   "outputs": [],
   "source": [
    "import cv2"
   ]
  },
  {
   "cell_type": "code",
   "execution_count": 2,
   "id": "27862034",
   "metadata": {},
   "outputs": [],
   "source": [
    "image = cv2.imread(\"Images/img1.png\")"
   ]
  },
  {
   "cell_type": "code",
   "execution_count": null,
   "id": "60b5b309",
   "metadata": {},
   "outputs": [],
   "source": [
    "if image is None:\n",
    "    print(\"Error: Image not found.\")\n",
    "else:\n",
    "    (h, w) = image.shape[:2] # :2 gets the first two dimensions (height and width)\n",
    "\n",
    "    center = (w // 2, h // 2) # Center of the image\n",
    "    M = cv2.getRotationMatrix2D(center, 45, 1.0) # Rotate 45 degrees around the center with scale 1.0\n",
    "    rotated = cv2.warpAffine(image, M, (w, h)) # Apply the rotation\n",
    "\n",
    "    cv2.imshow(\"Original\", image)\n",
    "    cv2.imshow(\"Rotated Image\", rotated)\n",
    "\n",
    "    cv2.waitKey(0) # Wait for a key press to close the windows\n",
    "    cv2.destroyAllWindows()"
   ]
  },
  {
   "cell_type": "code",
   "execution_count": null,
   "id": "f1d7b9ea",
   "metadata": {},
   "outputs": [],
   "source": []
  }
 ],
 "metadata": {
  "kernelspec": {
   "display_name": "venv",
   "language": "python",
   "name": "python3"
  },
  "language_info": {
   "codemirror_mode": {
    "name": "ipython",
    "version": 3
   },
   "file_extension": ".py",
   "mimetype": "text/x-python",
   "name": "python",
   "nbconvert_exporter": "python",
   "pygments_lexer": "ipython3",
   "version": "3.10.10"
  }
 },
 "nbformat": 4,
 "nbformat_minor": 5
}
