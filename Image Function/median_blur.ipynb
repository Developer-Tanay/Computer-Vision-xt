{
 "cells": [
  {
   "cell_type": "code",
   "execution_count": 1,
   "id": "04abddeb",
   "metadata": {},
   "outputs": [],
   "source": [
    "import cv2"
   ]
  },
  {
   "cell_type": "code",
   "execution_count": 2,
   "id": "49a75151",
   "metadata": {},
   "outputs": [],
   "source": [
    "image = cv2.imread(\"Images/img2.jpg \")"
   ]
  },
  {
   "cell_type": "code",
   "execution_count": 4,
   "id": "3ec5b80b",
   "metadata": {},
   "outputs": [],
   "source": [
    "blurred = cv2.medianBlur(image, 11) # apply median blur with kernel size 5\n",
    "cv2.imshow(\"original image\", image)\n",
    "cv2.imshow(\"blurred image\", blurred)\n",
    "cv2.waitKey(0)\n",
    "cv2.destroyAllWindows()"
   ]
  },
  {
   "cell_type": "code",
   "execution_count": null,
   "id": "34073a59",
   "metadata": {},
   "outputs": [],
   "source": []
  }
 ],
 "metadata": {
  "kernelspec": {
   "display_name": "venv",
   "language": "python",
   "name": "python3"
  },
  "language_info": {
   "codemirror_mode": {
    "name": "ipython",
    "version": 3
   },
   "file_extension": ".py",
   "mimetype": "text/x-python",
   "name": "python",
   "nbconvert_exporter": "python",
   "pygments_lexer": "ipython3",
   "version": "3.10.10"
  }
 },
 "nbformat": 4,
 "nbformat_minor": 5
}
