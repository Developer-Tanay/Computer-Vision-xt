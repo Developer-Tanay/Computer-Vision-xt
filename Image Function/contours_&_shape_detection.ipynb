{
 "cells": [
  {
   "cell_type": "code",
   "execution_count": 1,
   "id": "738bb459",
   "metadata": {},
   "outputs": [],
   "source": [
    "import cv2"
   ]
  },
  {
   "cell_type": "code",
   "execution_count": 2,
   "id": "0a28e6ee",
   "metadata": {},
   "outputs": [],
   "source": [
    "img = cv2.imread(\"Images/shape.png\")"
   ]
  },
  {
   "cell_type": "code",
   "execution_count": 3,
   "id": "c91cdffd",
   "metadata": {},
   "outputs": [],
   "source": [
    "gray = cv2.cvtColor(img, cv2.COLOR_BGR2GRAY)  # Convert to grayscale\n",
    "_, thresh = cv2.threshold(gray, 200, 255, cv2.THRESH_BINARY)  # Apply binary thresholding\n",
    "contours, hierarchy = cv2.findContours(thresh, cv2.RETR_TREE, cv2.CHAIN_APPROX_SIMPLE)  # Find contours\n",
    "\n",
    "cv2.drawContours(img, contours, -1, (0, 255, 0), 3)  # Draw all contours in green\n",
    "\n",
    "for contour in contours:\n",
    "    approx = cv2.approxPolyDP(contour, 0.01 * cv2.arcLength(contour, True), True)  # Approximate contour\n",
    "\n",
    "    corners = len(approx)  # Count the number of corners\n",
    "\n",
    "    if corners == 3:\n",
    "        shape = \"Triangle\"\n",
    "\n",
    "    elif corners == 4:\n",
    "        shape = \"Quadrilateral\"\n",
    "\n",
    "    elif corners == 5:\n",
    "        shape = \"Pentagon\"\n",
    "\n",
    "    else:\n",
    "        shape = \"Unknown\"\n",
    "\n",
    "    cv2.drawContours(img, [approx], 0, (255, 0, 0), 5)  # Draw the approximated contour\n",
    "    x = approx.ravel()[0]  # Get the x-coordinate of the first point\n",
    "    y = approx.ravel()[1] - 10  # Get the y-coordinate of the first point\n",
    "    cv2.putText(img, shape, (x, y), cv2.FONT_HERSHEY_SIMPLEX, 0.6, (255, 0, 0), 2)  # Put text on the image\n",
    "\n",
    "cv2.imshow(\"Contours\", img)  # Display the image with contours\n",
    "cv2.waitKey(0)  # Wait for a key press\n",
    "cv2.destroyAllWindows()  # Close all OpenCV windows"
   ]
  },
  {
   "cell_type": "code",
   "execution_count": null,
   "id": "be035cee",
   "metadata": {},
   "outputs": [],
   "source": []
  }
 ],
 "metadata": {
  "kernelspec": {
   "display_name": "venv",
   "language": "python",
   "name": "python3"
  },
  "language_info": {
   "codemirror_mode": {
    "name": "ipython",
    "version": 3
   },
   "file_extension": ".py",
   "mimetype": "text/x-python",
   "name": "python",
   "nbconvert_exporter": "python",
   "pygments_lexer": "ipython3",
   "version": "3.10.10"
  }
 },
 "nbformat": 4,
 "nbformat_minor": 5
}
