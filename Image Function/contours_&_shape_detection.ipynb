{
 "cells": [
  {
   "cell_type": "code",
   "execution_count": 1,
   "id": "738bb459",
   "metadata": {},
   "outputs": [],
   "source": [
    "import cv2"
   ]
  },
  {
   "cell_type": "code",
   "execution_count": 2,
   "id": "0a28e6ee",
   "metadata": {},
   "outputs": [],
   "source": [
    "img = cv2.imread(\"Images/shape.png\")"
   ]
  },
  {
   "cell_type": "code",
   "execution_count": null,
   "id": "c91cdffd",
   "metadata": {},
   "outputs": [],
   "source": [
    "gray = cv2.cvtColor(img, cv2.COLOR_BGR2GRAY)  # Convert to grayscale\n",
    "_, thresh = cv2.threshold(gray, 240, 255, cv2.THRESH_BINARY)  # Apply binary thresholding\n",
    "contours, _ = cv2.findContours(thresh, cv2.RETR_TREE, cv2.CHAIN_APPROX_SIMPLE)  # Find contours"
   ]
  },
  {
   "cell_type": "code",
   "execution_count": null,
   "id": "2c5739af",
   "metadata": {},
   "outputs": [],
   "source": []
  }
 ],
 "metadata": {
  "kernelspec": {
   "display_name": "venv",
   "language": "python",
   "name": "python3"
  },
  "language_info": {
   "codemirror_mode": {
    "name": "ipython",
    "version": 3
   },
   "file_extension": ".py",
   "mimetype": "text/x-python",
   "name": "python",
   "nbconvert_exporter": "python",
   "pygments_lexer": "ipython3",
   "version": "3.10.10"
  }
 },
 "nbformat": 4,
 "nbformat_minor": 5
}
