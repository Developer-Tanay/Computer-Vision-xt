{
 "cells": [
  {
   "cell_type": "code",
   "execution_count": 1,
   "id": "a9a67235-8ec1-4bda-9b28-3b94bfe57ec0",
   "metadata": {},
   "outputs": [],
   "source": [
    "import cv2"
   ]
  },
  {
   "cell_type": "code",
   "execution_count": null,
   "id": "4087924f-fe0f-4580-ac0c-dae9222c98dc",
   "metadata": {},
   "outputs": [],
   "source": [
    "image = cv2.imread(\"Images/img1.png\") \n",
    "\n",
    "if image is not None:\n",
    "    cv2.imshow(\"Image\", image)  ## syntax cv2.imshow(\"Wndow title\", image)\n",
    "    cv2.waitKey(0)  # Wait for a key press to close the window\n",
    "    cv2.destroyAllWindows() # Close all OpenCV windows\n",
    "else:\n",
    "    print(\"Error: Could not read the image.\")"
   ]
  },
  {
   "cell_type": "markdown",
   "id": "ffe674d1",
   "metadata": {},
   "source": [
    "### To save the image:\n",
    " #### cv2.imwrite(\"output_image.png\", image) Save the image to a file"
   ]
  },
  {
   "cell_type": "code",
   "execution_count": null,
   "id": "5e24ac42-a20c-4a7f-839b-39e21a9665c4",
   "metadata": {},
   "outputs": [],
   "source": []
  }
 ],
 "metadata": {
  "kernelspec": {
   "display_name": "venv",
   "language": "python",
   "name": "python3"
  },
  "language_info": {
   "codemirror_mode": {
    "name": "ipython",
    "version": 3
   },
   "file_extension": ".py",
   "mimetype": "text/x-python",
   "name": "python",
   "nbconvert_exporter": "python",
   "pygments_lexer": "ipython3",
   "version": "3.10.10"
  }
 },
 "nbformat": 4,
 "nbformat_minor": 5
}
