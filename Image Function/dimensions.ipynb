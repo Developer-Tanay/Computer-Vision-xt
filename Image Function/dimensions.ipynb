{
 "cells": [
  {
   "cell_type": "code",
   "execution_count": 1,
   "id": "32a19138",
   "metadata": {},
   "outputs": [],
   "source": [
    "import cv2"
   ]
  },
  {
   "cell_type": "markdown",
   "id": "20296a44",
   "metadata": {},
   "source": [
    "### To show image dimentions - height, width, channels"
   ]
  },
  {
   "cell_type": "code",
   "execution_count": 3,
   "id": "9e46be69",
   "metadata": {},
   "outputs": [
    {
     "name": "stdout",
     "output_type": "stream",
     "text": [
      "Image dimensions: 1080x1920 pixels, 3 channels\n"
     ]
    }
   ],
   "source": [
    "image = cv2.imread(\"Images/img1.png\") # load image \n",
    "if image is not None:\n",
    "    h, w, c = image.shape\n",
    "    print(f\"Image dimensions: {h}x{w} pixels, {c} channels\")\n",
    "else:\n",
    "    print(\"Error: Could not read the image.\")"
   ]
  },
  {
   "cell_type": "code",
   "execution_count": null,
   "id": "18188fd3",
   "metadata": {},
   "outputs": [],
   "source": []
  }
 ],
 "metadata": {
  "kernelspec": {
   "display_name": "venv",
   "language": "python",
   "name": "python3"
  },
  "language_info": {
   "codemirror_mode": {
    "name": "ipython",
    "version": 3
   },
   "file_extension": ".py",
   "mimetype": "text/x-python",
   "name": "python",
   "nbconvert_exporter": "python",
   "pygments_lexer": "ipython3",
   "version": "3.10.10"
  }
 },
 "nbformat": 4,
 "nbformat_minor": 5
}
