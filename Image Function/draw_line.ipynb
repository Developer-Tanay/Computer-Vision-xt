{
 "cells": [
  {
   "cell_type": "code",
   "execution_count": 1,
   "id": "53210874",
   "metadata": {},
   "outputs": [],
   "source": [
    "import cv2"
   ]
  },
  {
   "cell_type": "code",
   "execution_count": 3,
   "id": "503321d3",
   "metadata": {},
   "outputs": [],
   "source": [
    "image = cv2.imread(\"Images/img2.png\")"
   ]
  },
  {
   "cell_type": "code",
   "execution_count": null,
   "id": "ec6ff2cc",
   "metadata": {},
   "outputs": [],
   "source": [
    "if image is None:\n",
    "    print(\"Error: Could not read the image.\")\n",
    "else: \n",
    "    pt1 = (50, 100) # Starting point of the line\n",
    "    pt2 = (300, 200) # Ending point of the line\n",
    "    color = (0, 255, 0)\n",
    "    thickness = 5   \n",
    "\n",
    "    cv2.line(image, pt1, pt2, color, thickness)\n",
    "\n",
    "    cv2.imshow(\"Image with Line\", image)\n",
    "    cv2.waitKey(0)\n",
    "    cv2.destroyAllWindows()"
   ]
  },
  {
   "cell_type": "code",
   "execution_count": null,
   "id": "9823ebcc",
   "metadata": {},
   "outputs": [],
   "source": []
  }
 ],
 "metadata": {
  "kernelspec": {
   "display_name": "venv",
   "language": "python",
   "name": "python3"
  },
  "language_info": {
   "codemirror_mode": {
    "name": "ipython",
    "version": 3
   },
   "file_extension": ".py",
   "mimetype": "text/x-python",
   "name": "python",
   "nbconvert_exporter": "python",
   "pygments_lexer": "ipython3",
   "version": "3.10.10"
  }
 },
 "nbformat": 4,
 "nbformat_minor": 5
}
