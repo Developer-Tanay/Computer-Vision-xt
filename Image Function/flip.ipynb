{
 "cells": [
  {
   "cell_type": "code",
   "execution_count": 1,
   "id": "bc7ab4f5",
   "metadata": {},
   "outputs": [],
   "source": [
    "import cv2"
   ]
  },
  {
   "cell_type": "code",
   "execution_count": 4,
   "id": "ba09e875",
   "metadata": {},
   "outputs": [],
   "source": [
    "image = cv2.imread(\"Images/img1.png\")"
   ]
  },
  {
   "cell_type": "code",
   "execution_count": 5,
   "id": "9f488d3c",
   "metadata": {},
   "outputs": [],
   "source": [
    "if image is None:\n",
    "    print(\"Error: Could not read the image.\")   \n",
    "else:\n",
    "    flipped_horizontal = cv2.flip(image, 1)\n",
    "    flipped_vertical = cv2.flip(image, 0)\n",
    "    flipped_both = cv2.flip(image, -1)\n",
    "\n",
    "    cv2.imshow(\"Original Image\", image)\n",
    "    cv2.imshow(\"Flipped Horizontally\", flipped_horizontal)\n",
    "    cv2.imshow(\"Flipped vertically\", flipped_vertical)\n",
    "    cv2.imshow(\"Flipped both\", flipped_both)\n",
    "\n",
    "    cv2.waitKey(0)\n",
    "    cv2.destroyAllWindows()"
   ]
  },
  {
   "cell_type": "code",
   "execution_count": null,
   "id": "6e955525",
   "metadata": {},
   "outputs": [],
   "source": []
  }
 ],
 "metadata": {
  "kernelspec": {
   "display_name": "venv",
   "language": "python",
   "name": "python3"
  },
  "language_info": {
   "codemirror_mode": {
    "name": "ipython",
    "version": 3
   },
   "file_extension": ".py",
   "mimetype": "text/x-python",
   "name": "python",
   "nbconvert_exporter": "python",
   "pygments_lexer": "ipython3",
   "version": "3.10.10"
  }
 },
 "nbformat": 4,
 "nbformat_minor": 5
}
