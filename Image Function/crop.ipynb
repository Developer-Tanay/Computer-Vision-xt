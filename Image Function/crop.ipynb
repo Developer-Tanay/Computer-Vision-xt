{
 "cells": [
  {
   "cell_type": "code",
   "execution_count": 1,
   "id": "8d60ecfa",
   "metadata": {},
   "outputs": [],
   "source": [
    "import cv2 "
   ]
  },
  {
   "cell_type": "code",
   "execution_count": 4,
   "id": "ed13db88",
   "metadata": {},
   "outputs": [],
   "source": [
    "image = cv2.imread(\"Images/img1.png\")  # load image"
   ]
  },
  {
   "cell_type": "markdown",
   "id": "90296ff4",
   "metadata": {},
   "source": [
    "## syntax for cropping\n",
    "### cropped_image = image[y1:y2, x1:x2]\n",
    "### y1 is the starting y-coordinate, y2 is the ending y-coordinate,\n",
    "### x1 is the starting x-coordinate, and x2 is the ending x-coordinate."
   ]
  },
  {
   "cell_type": "code",
   "execution_count": 5,
   "id": "2a537465",
   "metadata": {},
   "outputs": [],
   "source": [
    "if image is not None:\n",
    "    cropped_image = image[50:200, 100:300]  # crop the image. This crops the region from (100, 50) to (300, 200)\n",
    "    # where (100, 50) is the top-left corner and (300, 200) is the bottom-right corner of the crop rectangle.\n",
    "    cv2.imshow(\"Cropped Image\", cropped_image)  # display the cropped image\n",
    "    cv2.imwrite(\"Images/cropped_img1.png\", cropped_image)  # save the cropped image\n",
    "    cv2.waitKey(0)  # wait for a key press\n",
    "    cv2.destroyAllWindows()  # close the image window\n",
    "else:\n",
    "    print(\"Error: Could not read the image.\")"
   ]
  },
  {
   "cell_type": "code",
   "execution_count": null,
   "id": "3aa2080d",
   "metadata": {},
   "outputs": [],
   "source": []
  }
 ],
 "metadata": {
  "kernelspec": {
   "display_name": "venv",
   "language": "python",
   "name": "python3"
  },
  "language_info": {
   "codemirror_mode": {
    "name": "ipython",
    "version": 3
   },
   "file_extension": ".py",
   "mimetype": "text/x-python",
   "name": "python",
   "nbconvert_exporter": "python",
   "pygments_lexer": "ipython3",
   "version": "3.10.10"
  }
 },
 "nbformat": 4,
 "nbformat_minor": 5
}
