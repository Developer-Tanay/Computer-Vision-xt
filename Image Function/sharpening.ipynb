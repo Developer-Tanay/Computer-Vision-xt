{
 "cells": [
  {
   "cell_type": "code",
   "execution_count": 1,
   "id": "5a0c137e",
   "metadata": {},
   "outputs": [],
   "source": [
    "import cv2\n",
    "import numpy as np"
   ]
  },
  {
   "cell_type": "code",
   "execution_count": 5,
   "id": "6f244b9d",
   "metadata": {},
   "outputs": [],
   "source": [
    "image = cv2.imread(\"Images/img3.png\")"
   ]
  },
  {
   "cell_type": "code",
   "execution_count": 6,
   "id": "acd091cd",
   "metadata": {},
   "outputs": [],
   "source": [
    "sharpen_kernel = np.array([\n",
    "    [0, -1, 0],\n",
    "    [-1, 5,-1],\n",
    "    [0, -1, 0]\n",
    "]) "
   ]
  },
  {
   "cell_type": "code",
   "execution_count": 7,
   "id": "dcfc1b8e",
   "metadata": {},
   "outputs": [],
   "source": [
    "sharpened = cv2.filter2D(image, -1, sharpen_kernel) # Syntax: cv2.filter2D(src, depth, kernel)\n",
    "cv2.imshow(\"original image\", image)\n",
    "cv2.imshow(\"sharpened image\", sharpened)\n",
    "cv2.waitKey(0)\n",
    "cv2.destroyAllWindows()"
   ]
  },
  {
   "cell_type": "code",
   "execution_count": null,
   "id": "eb50c066",
   "metadata": {},
   "outputs": [],
   "source": []
  }
 ],
 "metadata": {
  "kernelspec": {
   "display_name": "venv",
   "language": "python",
   "name": "python3"
  },
  "language_info": {
   "codemirror_mode": {
    "name": "ipython",
    "version": 3
   },
   "file_extension": ".py",
   "mimetype": "text/x-python",
   "name": "python",
   "nbconvert_exporter": "python",
   "pygments_lexer": "ipython3",
   "version": "3.10.10"
  }
 },
 "nbformat": 4,
 "nbformat_minor": 5
}
