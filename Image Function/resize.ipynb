{
 "cells": [
  {
   "cell_type": "code",
   "execution_count": 2,
   "id": "e5740c78",
   "metadata": {},
   "outputs": [],
   "source": [
    "import cv2"
   ]
  },
  {
   "cell_type": "code",
   "execution_count": 3,
   "id": "70ce0676",
   "metadata": {},
   "outputs": [],
   "source": [
    "image = cv2.imread(\"Images/img1.png\")  # load image"
   ]
  },
  {
   "cell_type": "code",
   "execution_count": 4,
   "id": "98efaace",
   "metadata": {},
   "outputs": [
    {
     "name": "stdout",
     "output_type": "stream",
     "text": [
      "Image dimensions: 1080x1920 pixels, 3 channels\n"
     ]
    }
   ],
   "source": [
    "if image is not None:\n",
    "    print(f\"Image dimensions: {image.shape[0]}x{image.shape[1]} pixels, {image.shape[2]} channels\")\n",
    "else:\n",
    "    print(\"Error: Could not read the image.\")"
   ]
  },
  {
   "cell_type": "markdown",
   "id": "82a9213b",
   "metadata": {},
   "source": [
    "## Resize"
   ]
  },
  {
   "cell_type": "code",
   "execution_count": 6,
   "id": "7eccdfef",
   "metadata": {},
   "outputs": [],
   "source": [
    "resized = cv2.resize(image, (300, 300))  # resize to 300x300 pixels\n",
    "cv2.imshow(\"Resized Image\", resized)  # display the resized image\n",
    "cv2.imwrite(\"Images/resized_img1.png\", resized)  # save the resized image\n",
    "cv2.waitKey(0)  # wait for a key press\n",
    "cv2.destroyAllWindows()  # close the image window"
   ]
  },
  {
   "cell_type": "code",
   "execution_count": null,
   "id": "bfff1b47",
   "metadata": {},
   "outputs": [],
   "source": []
  }
 ],
 "metadata": {
  "kernelspec": {
   "display_name": "venv",
   "language": "python",
   "name": "python3"
  },
  "language_info": {
   "codemirror_mode": {
    "name": "ipython",
    "version": 3
   },
   "file_extension": ".py",
   "mimetype": "text/x-python",
   "name": "python",
   "nbconvert_exporter": "python",
   "pygments_lexer": "ipython3",
   "version": "3.10.10"
  }
 },
 "nbformat": 4,
 "nbformat_minor": 5
}
