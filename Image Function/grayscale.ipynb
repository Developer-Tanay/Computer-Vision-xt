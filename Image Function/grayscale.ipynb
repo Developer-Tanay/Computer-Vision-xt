{
 "cells": [
  {
   "cell_type": "code",
   "execution_count": 1,
   "id": "266c874a",
   "metadata": {},
   "outputs": [],
   "source": [
    "import cv2"
   ]
  },
  {
   "cell_type": "code",
   "execution_count": 2,
   "id": "8ddd1081",
   "metadata": {},
   "outputs": [],
   "source": [
    "image = cv2.imread(\"Images/img1.png\")  # load image"
   ]
  },
  {
   "cell_type": "code",
   "execution_count": 3,
   "id": "5847c758",
   "metadata": {},
   "outputs": [],
   "source": [
    "if image is not None:\n",
    "    gray = cv2.cvtColor(image, cv2.COLOR_BGR2GRAY)  # convert to grayscale\n",
    "    cv2.imshow(\"Grayscale Image\", gray)  # display the grayscale image\n",
    "    cv2.waitKey(0)  # wait for a key press\n",
    "    cv2.destroyAllWindows()  # close the image window\n",
    "else:\n",
    "    print(\"Error: Could not read the image.\")"
   ]
  },
  {
   "cell_type": "code",
   "execution_count": null,
   "id": "aefd18ec",
   "metadata": {},
   "outputs": [],
   "source": []
  }
 ],
 "metadata": {
  "kernelspec": {
   "display_name": "venv",
   "language": "python",
   "name": "python3"
  },
  "language_info": {
   "codemirror_mode": {
    "name": "ipython",
    "version": 3
   },
   "file_extension": ".py",
   "mimetype": "text/x-python",
   "name": "python",
   "nbconvert_exporter": "python",
   "pygments_lexer": "ipython3",
   "version": "3.10.10"
  }
 },
 "nbformat": 4,
 "nbformat_minor": 5
}
