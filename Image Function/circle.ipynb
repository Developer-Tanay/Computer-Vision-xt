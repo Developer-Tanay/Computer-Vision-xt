{
 "cells": [
  {
   "cell_type": "code",
   "execution_count": 1,
   "id": "8ccc3c08",
   "metadata": {},
   "outputs": [],
   "source": [
    "import cv2"
   ]
  },
  {
   "cell_type": "code",
   "execution_count": 2,
   "id": "ff253cbf",
   "metadata": {},
   "outputs": [],
   "source": [
    "image = cv2.imread(\"Images/img1.png\")"
   ]
  },
  {
   "cell_type": "code",
   "execution_count": 5,
   "id": "1def0c6a",
   "metadata": {},
   "outputs": [],
   "source": [
    "if image is None:\n",
    "    print(\"Error: Could not read the image.\")\n",
    "else: \n",
    "    centre = (image.shape[1] // 2, image.shape[0] // 2)\n",
    "    radius = 50\n",
    "    color = (250, 0, 0)  # Green color in BGR\n",
    "    thickness = -1  # Filled circle\n",
    "\n",
    "    cv2.circle(image, centre, radius, color, thickness)\n",
    "    cv2.imshow(\"Circle on Image\", image)\n",
    "    cv2.waitKey(0)\n",
    "    cv2.destroyAllWindows()"
   ]
  },
  {
   "cell_type": "code",
   "execution_count": null,
   "id": "fb8f59ef",
   "metadata": {},
   "outputs": [],
   "source": []
  }
 ],
 "metadata": {
  "kernelspec": {
   "display_name": "venv",
   "language": "python",
   "name": "python3"
  },
  "language_info": {
   "codemirror_mode": {
    "name": "ipython",
    "version": 3
   },
   "file_extension": ".py",
   "mimetype": "text/x-python",
   "name": "python",
   "nbconvert_exporter": "python",
   "pygments_lexer": "ipython3",
   "version": "3.10.10"
  }
 },
 "nbformat": 4,
 "nbformat_minor": 5
}
