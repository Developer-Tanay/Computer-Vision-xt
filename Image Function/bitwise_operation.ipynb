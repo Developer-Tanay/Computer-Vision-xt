{
 "cells": [
  {
   "cell_type": "markdown",
   "id": "76c6662b",
   "metadata": {},
   "source": [
    "1. **cv2.bitwise_and(img1, img2)**\n",
    "2. **cv2.bitwise_or(img1, img2)**\n",
    "3. **cv2.bitwise_not(img1)**"
   ]
  },
  {
   "cell_type": "code",
   "execution_count": 13,
   "id": "140e42be",
   "metadata": {},
   "outputs": [],
   "source": [
    "import cv2\n",
    "import numpy as np"
   ]
  },
  {
   "cell_type": "code",
   "execution_count": 14,
   "id": "db9801e7",
   "metadata": {},
   "outputs": [],
   "source": [
    "img1 = np.zeros((300, 300), dtype=\"uint8\") # syntax - np.zeros(shape, dtype)\n",
    "img2 = np.zeros((300, 300), dtype=\"uint8\") # syntax - np.zeros(shape, dtype)"
   ]
  },
  {
   "cell_type": "code",
   "execution_count": 15,
   "id": "30b3df4d",
   "metadata": {},
   "outputs": [
    {
     "data": {
      "text/plain": [
       "array([[0, 0, 0, ..., 0, 0, 0],\n",
       "       [0, 0, 0, ..., 0, 0, 0],\n",
       "       [0, 0, 0, ..., 0, 0, 0],\n",
       "       ...,\n",
       "       [0, 0, 0, ..., 0, 0, 0],\n",
       "       [0, 0, 0, ..., 0, 0, 0],\n",
       "       [0, 0, 0, ..., 0, 0, 0]], shape=(300, 300), dtype=uint8)"
      ]
     },
     "execution_count": 15,
     "metadata": {},
     "output_type": "execute_result"
    }
   ],
   "source": [
    "cv2.circle(img1, (150, 150), 100, 255, -1) # syntax - cv2.circle(image, center, radius, color, thickness)\n",
    "cv2.rectangle(img2, (100, 100), (250, 250), 255, -1) # syntax - cv2.rectangle(image, top_left, bottom_right, color, thickness)"
   ]
  },
  {
   "cell_type": "code",
   "execution_count": 16,
   "id": "9b2a2162",
   "metadata": {},
   "outputs": [],
   "source": [
    "bitwise_and = cv2.bitwise_and(img1, img2)\n",
    "bitwise_or = cv2.bitwise_or(img1, img2)\n",
    "bitwise_not = cv2.bitwise_not(img1)"
   ]
  },
  {
   "cell_type": "code",
   "execution_count": 17,
   "id": "40c591dc",
   "metadata": {},
   "outputs": [],
   "source": [
    "cv2.imshow(\"Circle\", img1)\n",
    "cv2.imshow(\"Rectangle\", img2)\n",
    "cv2.imshow(\"Bitwise AND\", bitwise_and)\n",
    "cv2.imshow(\"Bitwise OR\", bitwise_or)\n",
    "cv2.imshow(\"Bitwise NOT\", bitwise_not)\n",
    "\n",
    "cv2.waitKey(0)\n",
    "cv2.destroyAllWindows()"
   ]
  },
  {
   "cell_type": "markdown",
   "id": "32f4b4ef",
   "metadata": {},
   "source": [
    "# Explanation\n",
    "\n",
    "```python\n",
    "import cv2\n",
    "import numpy as np\n",
    "```\n",
    "\n",
    "* **import cv2**: This line imports OpenCV.\n",
    "* **import numpy as np**: This imports NumPy.\n",
    "\n",
    "---\n",
    "\n",
    "```python\n",
    "img1 = np.zeros((300, 300, 3), dtype=\"uint8\")\n",
    "img2 = np.zeros((300, 300, 3), dtype=\"uint8\")\n",
    "```\n",
    "\n",
    "* **np.zeros((300, 300, 3), dtype=\"uint8\")**: This creates a black image (all pixels zero) of size 300x300 pixels, with 3 color channels (Red, Green, Blue).\n",
    "* **img1** and **img2**: These are two separate black images initialized here.\n",
    "\n",
    "---\n",
    "\n",
    "```python\n",
    "cv2.circle(img1, (150, 150), 100, (255, 0, 0), -1)\n",
    "```\n",
    "\n",
    "* **cv2.circle**: This draws a circle on the image.\n",
    "* **img1**: The image on which to draw.\n",
    "* **(150, 150)**: The center of the circle (x=150, y=150) — middle of the image.\n",
    "* **100**: Radius of the circle.\n",
    "* **(255, 0, 0)**: Color of the circle in BGR format. (255,0,0) means pure blue.\n",
    "* **-1**: Thickness. -1 means fill the circle completely with blue color.\n",
    "\n",
    "---\n",
    "\n",
    "```python\n",
    "cv2.rectangle(img2, (50, 50), (250, 250), (0, 255, 0), -1)\n",
    "```\n",
    "\n",
    "* **cv2.rectangle**: This draws a rectangle.\n",
    "* **img2**: The image on which to draw.\n",
    "* **(50, 50)**: Top-left corner of the rectangle.\n",
    "* **(250, 250)**: Bottom-right corner of the rectangle.\n",
    "* **(0, 255, 0)**: Color of the rectangle (pure green).\n",
    "* **-1**: Fill the rectangle completely.\n",
    "\n",
    "---\n",
    "\n",
    "```python\n",
    "bitwise_and = cv2.bitwise_and(img1, img2)\n",
    "```\n",
    "\n",
    "* **cv2.bitwise\\_and**: This does a bitwise AND operation between corresponding pixels of img1 and img2.\n",
    "* The AND operation keeps pixels where both images have color.\n",
    "* So, the result is the overlapping area of the blue circle and green rectangle.\n",
    "\n",
    "---\n",
    "\n",
    "```python\n",
    "bitwise_or = cv2.bitwise_or(img1, img2)\n",
    "```\n",
    "\n",
    "* **cv2.bitwise\\_or**: Bitwise OR operation combines pixels from both images.\n",
    "* Pixels appear wherever **either** img1 or img2 has color.\n",
    "* So, it combines the blue circle and green rectangle areas.\n",
    "\n",
    "---\n",
    "\n",
    "```python\n",
    "bitwise_not = cv2.bitwise_not(img1)\n",
    "```\n",
    "\n",
    "* **cv2.bitwise\\_not**: This inverts (flips) the colors of img1.\n",
    "* Blue areas become black, black areas become white, etc.\n",
    "* It’s like making a photographic negative of img1.\n",
    "\n",
    "---\n",
    "\n",
    "```python\n",
    "cv2.imshow(\"Circle\", img1)\n",
    "cv2.imshow(\"Rectangle\", img2)\n",
    "cv2.imshow(\"Bitwise AND\", bitwise_and)\n",
    "cv2.imshow(\"Bitwise OR\", bitwise_or)\n",
    "cv2.imshow(\"Bitwise NOT\", bitwise_not)\n",
    "```\n",
    "\n",
    "* **cv2.imshow**: Shows a window displaying the image.\n",
    "* The first argument is the window name (title).\n",
    "* The second argument is the image to show.\n",
    "\n",
    "---\n",
    "\n",
    "```python\n",
    "cv2.waitKey(0)\n",
    "cv2.destroyAllWindows()\n",
    "```\n",
    "\n",
    "* **cv2.waitKey(0)**: Waits indefinitely until you press any key.\n",
    "* **cv2.destroyAllWindows()**: Closes all OpenCV windows.\n",
    "\n",
    "---\n",
    "\n",
    "### Summary:\n",
    "\n",
    "1. You create two black images.\n",
    "2. Draw a blue filled circle on the first image.\n",
    "3. Draw a green filled rectangle on the second image.\n",
    "4. Perform bitwise operations:\n",
    "\n",
    "   * **AND** shows overlap.\n",
    "   * **OR** shows combined shapes.\n",
    "   * **NOT** inverts the first image colors.\n",
    "5. Show all these images in separate windows.\n",
    "6. Wait for a key press, then close all windows.\n"
   ]
  }
 ],
 "metadata": {
  "kernelspec": {
   "display_name": "venv",
   "language": "python",
   "name": "python3"
  },
  "language_info": {
   "codemirror_mode": {
    "name": "ipython",
    "version": 3
   },
   "file_extension": ".py",
   "mimetype": "text/x-python",
   "name": "python",
   "nbconvert_exporter": "python",
   "pygments_lexer": "ipython3",
   "version": "3.10.10"
  }
 },
 "nbformat": 4,
 "nbformat_minor": 5
}
