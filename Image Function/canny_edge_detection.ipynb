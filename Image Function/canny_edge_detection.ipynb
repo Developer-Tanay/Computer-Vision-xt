{
 "cells": [
  {
   "cell_type": "code",
   "execution_count": 1,
   "id": "ac5df8c9",
   "metadata": {},
   "outputs": [],
   "source": [
    "import cv2"
   ]
  },
  {
   "cell_type": "code",
   "execution_count": 3,
   "id": "c991142d",
   "metadata": {},
   "outputs": [],
   "source": [
    "image = cv2.imread(\"Images/flower.png\", cv2.IMREAD_GRAYSCALE)"
   ]
  },
  {
   "cell_type": "code",
   "execution_count": 19,
   "id": "23987d0f",
   "metadata": {},
   "outputs": [],
   "source": [
    "edges = cv2.Canny(image, 50, 150) # syntax - cv2.Canny(image, threshold1, threshold2)\n",
    "# threshold1: The lower boundary for the hysteresis procedure.\n",
    "# threshold2: The upper boundary for the hysteresis procedure."
   ]
  },
  {
   "cell_type": "code",
   "execution_count": 20,
   "id": "f463da67",
   "metadata": {},
   "outputs": [],
   "source": [
    "cv2.imshow(\"Orignal Image\", image)\n",
    "cv2.imshow(\"Canny Edges\", edges)\n",
    "cv2.waitKey(0)\n",
    "cv2.destroyAllWindows()"
   ]
  },
  {
   "cell_type": "code",
   "execution_count": null,
   "id": "2cbb50ec",
   "metadata": {},
   "outputs": [],
   "source": []
  }
 ],
 "metadata": {
  "kernelspec": {
   "display_name": "venv",
   "language": "python",
   "name": "python3"
  },
  "language_info": {
   "codemirror_mode": {
    "name": "ipython",
    "version": 3
   },
   "file_extension": ".py",
   "mimetype": "text/x-python",
   "name": "python",
   "nbconvert_exporter": "python",
   "pygments_lexer": "ipython3",
   "version": "3.10.10"
  }
 },
 "nbformat": 4,
 "nbformat_minor": 5
}
