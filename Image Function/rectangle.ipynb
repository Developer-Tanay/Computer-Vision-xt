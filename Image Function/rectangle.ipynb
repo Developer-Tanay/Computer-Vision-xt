{
 "cells": [
  {
   "cell_type": "code",
   "execution_count": 1,
   "id": "9368d311",
   "metadata": {},
   "outputs": [],
   "source": [
    "import cv2"
   ]
  },
  {
   "cell_type": "code",
   "execution_count": 5,
   "id": "07319a99",
   "metadata": {},
   "outputs": [],
   "source": [
    "image = cv2.imread(\"Images/img1.png\")"
   ]
  },
  {
   "cell_type": "code",
   "execution_count": 4,
   "id": "4e77ed9f",
   "metadata": {},
   "outputs": [],
   "source": [
    "if image is None:\n",
    "    print(\"Error: Could not read the image.\")\n",
    "else: \n",
    "    pt1 = (50, 50)\n",
    "    pt2 = (250, 200)\n",
    "    color = (0, 0, 250)  # Green color in BGR\n",
    "    thickness = 3\n",
    "\n",
    "    cv2.rectangle(image, pt1, pt2, color, thickness)\n",
    "    cv2.imshow(\"Image with Rectangle\", image)\n",
    "    cv2.waitKey(0)\n",
    "    cv2.destroyAllWindows()"
   ]
  },
  {
   "cell_type": "code",
   "execution_count": null,
   "id": "87bd3fed",
   "metadata": {},
   "outputs": [],
   "source": []
  }
 ],
 "metadata": {
  "kernelspec": {
   "display_name": "venv",
   "language": "python",
   "name": "python3"
  },
  "language_info": {
   "codemirror_mode": {
    "name": "ipython",
    "version": 3
   },
   "file_extension": ".py",
   "mimetype": "text/x-python",
   "name": "python",
   "nbconvert_exporter": "python",
   "pygments_lexer": "ipython3",
   "version": "3.10.10"
  }
 },
 "nbformat": 4,
 "nbformat_minor": 5
}
