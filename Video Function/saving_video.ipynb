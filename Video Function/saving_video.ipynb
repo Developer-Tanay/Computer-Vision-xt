{
 "cells": [
  {
   "cell_type": "code",
   "execution_count": 1,
   "id": "121b5270",
   "metadata": {},
   "outputs": [],
   "source": [
    "import cv2"
   ]
  },
  {
   "cell_type": "code",
   "execution_count": 2,
   "id": "d1a58e46",
   "metadata": {},
   "outputs": [],
   "source": [
    "cap = cv2.VideoCapture(0)"
   ]
  },
  {
   "cell_type": "code",
   "execution_count": 3,
   "id": "f2d08a42",
   "metadata": {},
   "outputs": [],
   "source": [
    "frame_width = int(cap.get(cv2.CAP_PROP_FRAME_WIDTH)) # Get the width of the frame\n",
    "frame_height = int(cap.get(cv2.CAP_PROP_FRAME_HEIGHT)) # Get the width and height of the frame"
   ]
  },
  {
   "cell_type": "code",
   "execution_count": 4,
   "id": "81110fe9",
   "metadata": {},
   "outputs": [],
   "source": [
    "codec = cv2.VideoWriter_fourcc(*\"XVID\")  # Codec for video encoding.\n",
    "recorder = cv2.VideoWriter(\n",
    "    \"VideoData/output.avi\", codec, 20.0, (frame_width, frame_height)\n",
    ")  # Create a VideoWriter object to save the video.\n",
    "\n",
    "while True:\n",
    "    success, image = cap.read() # Read a frame from the camera\n",
    "\n",
    "    if not success:\n",
    "        print(\"Failed to capture image\")\n",
    "        break\n",
    "\n",
    "    recorder.write(image) # Write the frame to the video file\n",
    "    cv2.imshow(\"Recording live\", image) # Display the frame in a window\n",
    "\n",
    "    if cv2.waitKey(1) & 0xFF == ord('q'): # Exit the loop if 'q' is pressed\n",
    "        break\n",
    "\n",
    "cap.release() # Release the camera\n",
    "recorder.release() # Release the VideoWriter object\n",
    "cv2.destroyAllWindows() # Close all OpenCV windows"
   ]
  },
  {
   "cell_type": "code",
   "execution_count": null,
   "id": "ee1ef25c",
   "metadata": {},
   "outputs": [],
   "source": []
  }
 ],
 "metadata": {
  "kernelspec": {
   "display_name": "venv",
   "language": "python",
   "name": "python3"
  },
  "language_info": {
   "codemirror_mode": {
    "name": "ipython",
    "version": 3
   },
   "file_extension": ".py",
   "mimetype": "text/x-python",
   "name": "python",
   "nbconvert_exporter": "python",
   "pygments_lexer": "ipython3",
   "version": "3.10.10"
  }
 },
 "nbformat": 4,
 "nbformat_minor": 5
}
